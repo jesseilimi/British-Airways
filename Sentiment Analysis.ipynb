{
 "cells": [
  {
   "cell_type": "code",
   "id": "initial_id",
   "metadata": {
    "collapsed": true,
    "ExecuteTime": {
     "end_time": "2024-06-13T12:22:19.781456Z",
     "start_time": "2024-06-13T12:21:16.471960Z"
    }
   },
   "source": [
    "import requests\n",
    "from bs4 import BeautifulSoup\n",
    "import pandas as pd\n",
    "\n",
    "base_url = \"https://www.airlinequality.com/airline-reviews/british-airways\"\n",
    "pages = 10\n",
    "page_size = 100\n",
    "\n",
    "reviews = []\n",
    "\n",
    "for i in range(1, pages + 1):\n",
    "    print(f\"Scraping page {i}\")\n",
    "    url = f\"{base_url}/page/{i}/?sortby=post_date%3ADesc&pagesize={page_size}\"\n",
    "    response = requests.get(url)\n",
    "    content = response.content\n",
    "    parsed_content = BeautifulSoup(content, 'html.parser')\n",
    "    for para in parsed_content.find_all(\"div\", {\"class\": \"text_content\"}):\n",
    "        reviews.append(para.get_text())\n",
    "    print(f\"   ---> {len(reviews)} total reviews\")\n",
    "\n",
    "\n"
   ],
   "outputs": [
    {
     "name": "stdout",
     "output_type": "stream",
     "text": [
      "Scraping page 1\n",
      "   ---> 100 total reviews\n",
      "Scraping page 2\n",
      "   ---> 200 total reviews\n",
      "Scraping page 3\n",
      "   ---> 300 total reviews\n",
      "Scraping page 4\n",
      "   ---> 400 total reviews\n",
      "Scraping page 5\n",
      "   ---> 500 total reviews\n",
      "Scraping page 6\n",
      "   ---> 600 total reviews\n",
      "Scraping page 7\n",
      "   ---> 700 total reviews\n",
      "Scraping page 8\n",
      "   ---> 800 total reviews\n",
      "Scraping page 9\n",
      "   ---> 900 total reviews\n",
      "Scraping page 10\n",
      "   ---> 1000 total reviews\n"
     ]
    }
   ],
   "execution_count": 1
  },
  {
   "metadata": {
    "ExecuteTime": {
     "end_time": "2024-06-13T12:24:48.154093Z",
     "start_time": "2024-06-13T12:24:47.984510Z"
    }
   },
   "cell_type": "code",
   "source": [
    "# Save the reviews to a CSV file\n",
    "df = pd.DataFrame()\n",
    "df[\"reviews\"] = reviews\n",
    "df.to_csv(\"C:/Users/jckat/OneDrive/Documents/GitHub/British Airways/Data/BA_reviews.csv\", index=False)\n",
    "print(\"Scraping completed and data saved to 'Data/BA_reviews.csv'\")"
   ],
   "id": "c24fc8a65856261",
   "outputs": [
    {
     "name": "stdout",
     "output_type": "stream",
     "text": [
      "Scraping completed and data saved to 'Data/BA_reviews.csv'\n"
     ]
    }
   ],
   "execution_count": 3
  },
  {
   "metadata": {
    "ExecuteTime": {
     "end_time": "2024-06-13T12:26:47.010995Z",
     "start_time": "2024-06-13T12:26:46.982982Z"
    }
   },
   "cell_type": "code",
   "source": "df.head(20)",
   "id": "3290323d4ee854c6",
   "outputs": [
    {
     "data": {
      "text/plain": [
       "                                              reviews\n",
       "0   ✅ Trip Verified |  Flew British Airways on BA ...\n",
       "1   ✅ Trip Verified |  BA cancelled the flight fro...\n",
       "2   ✅ Trip Verified | I strongly advise everyone t...\n",
       "3   ✅ Trip Verified | My partner and I were on the...\n",
       "4   Not Verified |  We had a Premium Economy retur...\n",
       "5   ✅ Trip Verified |  I should like to review my ...\n",
       "6   ✅ Trip Verified | We have flown with British A...\n",
       "7   ✅ Trip Verified | I sat in the plane at Vienna...\n",
       "8   ✅ Trip Verified | It is almost 11pm we were su...\n",
       "9   ✅ Trip Verified |  I booked a long haul flight...\n",
       "10  ✅ Trip Verified |  A premium price for a sub-p...\n",
       "11  ✅ Trip Verified |  Really terrible user experi...\n",
       "12  ✅ Trip Verified | Very impressed with BA. Chec...\n",
       "13  ✅ Trip Verified |  LHR - SFO, LAS - LGW August...\n",
       "14  Not Verified |   I flew from Malaga via LHR to...\n",
       "15  ✅ Trip Verified |  Milan to Miami return via L...\n",
       "16  ✅ Trip Verified |  BA created a new low-cost s...\n",
       "17  ✅ Trip Verified |   I flew with British Airway...\n",
       "18  ✅ Trip Verified |  Manchester to Copenhagen vi...\n",
       "19  ✅ Trip Verified |  I have never seen such disr..."
      ],
      "text/html": [
       "<div>\n",
       "<style scoped>\n",
       "    .dataframe tbody tr th:only-of-type {\n",
       "        vertical-align: middle;\n",
       "    }\n",
       "\n",
       "    .dataframe tbody tr th {\n",
       "        vertical-align: top;\n",
       "    }\n",
       "\n",
       "    .dataframe thead th {\n",
       "        text-align: right;\n",
       "    }\n",
       "</style>\n",
       "<table border=\"1\" class=\"dataframe\">\n",
       "  <thead>\n",
       "    <tr style=\"text-align: right;\">\n",
       "      <th></th>\n",
       "      <th>reviews</th>\n",
       "    </tr>\n",
       "  </thead>\n",
       "  <tbody>\n",
       "    <tr>\n",
       "      <th>0</th>\n",
       "      <td>✅ Trip Verified |  Flew British Airways on BA ...</td>\n",
       "    </tr>\n",
       "    <tr>\n",
       "      <th>1</th>\n",
       "      <td>✅ Trip Verified |  BA cancelled the flight fro...</td>\n",
       "    </tr>\n",
       "    <tr>\n",
       "      <th>2</th>\n",
       "      <td>✅ Trip Verified | I strongly advise everyone t...</td>\n",
       "    </tr>\n",
       "    <tr>\n",
       "      <th>3</th>\n",
       "      <td>✅ Trip Verified | My partner and I were on the...</td>\n",
       "    </tr>\n",
       "    <tr>\n",
       "      <th>4</th>\n",
       "      <td>Not Verified |  We had a Premium Economy retur...</td>\n",
       "    </tr>\n",
       "    <tr>\n",
       "      <th>5</th>\n",
       "      <td>✅ Trip Verified |  I should like to review my ...</td>\n",
       "    </tr>\n",
       "    <tr>\n",
       "      <th>6</th>\n",
       "      <td>✅ Trip Verified | We have flown with British A...</td>\n",
       "    </tr>\n",
       "    <tr>\n",
       "      <th>7</th>\n",
       "      <td>✅ Trip Verified | I sat in the plane at Vienna...</td>\n",
       "    </tr>\n",
       "    <tr>\n",
       "      <th>8</th>\n",
       "      <td>✅ Trip Verified | It is almost 11pm we were su...</td>\n",
       "    </tr>\n",
       "    <tr>\n",
       "      <th>9</th>\n",
       "      <td>✅ Trip Verified |  I booked a long haul flight...</td>\n",
       "    </tr>\n",
       "    <tr>\n",
       "      <th>10</th>\n",
       "      <td>✅ Trip Verified |  A premium price for a sub-p...</td>\n",
       "    </tr>\n",
       "    <tr>\n",
       "      <th>11</th>\n",
       "      <td>✅ Trip Verified |  Really terrible user experi...</td>\n",
       "    </tr>\n",
       "    <tr>\n",
       "      <th>12</th>\n",
       "      <td>✅ Trip Verified | Very impressed with BA. Chec...</td>\n",
       "    </tr>\n",
       "    <tr>\n",
       "      <th>13</th>\n",
       "      <td>✅ Trip Verified |  LHR - SFO, LAS - LGW August...</td>\n",
       "    </tr>\n",
       "    <tr>\n",
       "      <th>14</th>\n",
       "      <td>Not Verified |   I flew from Malaga via LHR to...</td>\n",
       "    </tr>\n",
       "    <tr>\n",
       "      <th>15</th>\n",
       "      <td>✅ Trip Verified |  Milan to Miami return via L...</td>\n",
       "    </tr>\n",
       "    <tr>\n",
       "      <th>16</th>\n",
       "      <td>✅ Trip Verified |  BA created a new low-cost s...</td>\n",
       "    </tr>\n",
       "    <tr>\n",
       "      <th>17</th>\n",
       "      <td>✅ Trip Verified |   I flew with British Airway...</td>\n",
       "    </tr>\n",
       "    <tr>\n",
       "      <th>18</th>\n",
       "      <td>✅ Trip Verified |  Manchester to Copenhagen vi...</td>\n",
       "    </tr>\n",
       "    <tr>\n",
       "      <th>19</th>\n",
       "      <td>✅ Trip Verified |  I have never seen such disr...</td>\n",
       "    </tr>\n",
       "  </tbody>\n",
       "</table>\n",
       "</div>"
      ]
     },
     "execution_count": 7,
     "metadata": {},
     "output_type": "execute_result"
    }
   ],
   "execution_count": 7
  },
  {
   "metadata": {},
   "cell_type": "markdown",
   "source": "### Cleaning the Data",
   "id": "6267d98f325f6dec"
  },
  {
   "metadata": {
    "ExecuteTime": {
     "end_time": "2024-06-13T12:38:42.345648Z",
     "start_time": "2024-06-13T12:38:42.140280Z"
    }
   },
   "cell_type": "code",
   "source": [
    "# Load data\n",
    "df = pd.read_csv(r'C:/Users/jckat/oneDrive/Documents/GitHub/British Airways/Data/BA_reviews.csv')\n",
    "\n",
    "# Clean data\n",
    "df['reviews'] = df['reviews'].str.replace(r'<.*?>', '', regex=True)  # Remove HTML tags\n",
    "df['reviews'] = df['reviews'].str.replace(r'[^a-zA-Z\\s]', '', regex=True)  # Remove non-alphabet characters\n",
    "df['reviews'] = df['reviews'].str.lower()  # Convert to lowercase\n",
    "\n",
    "# Save cleaned data\n",
    "df.to_csv(r'C:/Users/jckat/oneDrive/Documents/GitHub/British Airways/Data/cleaned_BA_reviews.csv', index=False)\n",
    "print(\"Data cleaning completed and data saved to 'C:/Users/jckat/oneDrive/Documents/GitHub/British Airways/Data/cleaned_BA_reviews.csv'\")\n"
   ],
   "id": "86973d82a3179f69",
   "outputs": [
    {
     "name": "stdout",
     "output_type": "stream",
     "text": [
      "Data cleaning completed and data saved to 'C:/Users/jckat/oneDrive/Documents/GitHub/British Airways/Data/cleaned_BA_reviews.csv'\n"
     ]
    }
   ],
   "execution_count": 11
  },
  {
   "metadata": {},
   "cell_type": "markdown",
   "source": "#### Anlayzing the Data",
   "id": "b5e90dcb77d7ccc5"
  },
  {
   "metadata": {
    "ExecuteTime": {
     "end_time": "2024-06-13T12:52:53.858184Z",
     "start_time": "2024-06-13T12:52:48.153128Z"
    }
   },
   "cell_type": "code",
   "source": "!pip install wordcloud\n",
   "id": "7e79f764ba0d6f9f",
   "outputs": [
    {
     "name": "stdout",
     "output_type": "stream",
     "text": [
      "Requirement already satisfied: wordcloud in c:\\users\\jckat\\onedrive\\documents\\github\\british airways\\sentiment_analysis\\venv\\lib\\site-packages (1.9.3)"
     ]
    },
    {
     "name": "stderr",
     "output_type": "stream",
     "text": [
      "\n",
      "[notice] A new release of pip is available: 23.2.1 -> 24.0\n",
      "[notice] To update, run: python.exe -m pip install --upgrade pip\n"
     ]
    },
    {
     "name": "stdout",
     "output_type": "stream",
     "text": [
      "\n",
      "Requirement already satisfied: numpy>=1.6.1 in c:\\users\\jckat\\appdata\\roaming\\python\\python312\\site-packages (from wordcloud) (1.26.1)\n",
      "Requirement already satisfied: pillow in c:\\users\\jckat\\appdata\\roaming\\python\\python312\\site-packages (from wordcloud) (10.1.0)\n",
      "Requirement already satisfied: matplotlib in c:\\users\\jckat\\appdata\\roaming\\python\\python312\\site-packages (from wordcloud) (3.8.1)\n",
      "Requirement already satisfied: contourpy>=1.0.1 in c:\\users\\jckat\\appdata\\roaming\\python\\python312\\site-packages (from matplotlib->wordcloud) (1.2.0)\n",
      "Requirement already satisfied: cycler>=0.10 in c:\\users\\jckat\\appdata\\roaming\\python\\python312\\site-packages (from matplotlib->wordcloud) (0.12.1)\n",
      "Requirement already satisfied: fonttools>=4.22.0 in c:\\users\\jckat\\appdata\\roaming\\python\\python312\\site-packages (from matplotlib->wordcloud) (4.44.0)\n",
      "Requirement already satisfied: kiwisolver>=1.3.1 in c:\\users\\jckat\\appdata\\roaming\\python\\python312\\site-packages (from matplotlib->wordcloud) (1.4.5)\n",
      "Requirement already satisfied: packaging>=20.0 in c:\\users\\jckat\\appdata\\roaming\\python\\python312\\site-packages (from matplotlib->wordcloud) (23.2)\n",
      "Requirement already satisfied: pyparsing>=2.3.1 in c:\\users\\jckat\\appdata\\roaming\\python\\python312\\site-packages (from matplotlib->wordcloud) (3.1.1)\n",
      "Requirement already satisfied: python-dateutil>=2.7 in c:\\users\\jckat\\appdata\\roaming\\python\\python312\\site-packages (from matplotlib->wordcloud) (2.8.2)\n",
      "Requirement already satisfied: six>=1.5 in c:\\users\\jckat\\appdata\\roaming\\python\\python312\\site-packages (from python-dateutil>=2.7->matplotlib->wordcloud) (1.16.0)\n"
     ]
    }
   ],
   "execution_count": 15
  },
  {
   "metadata": {
    "ExecuteTime": {
     "end_time": "2024-06-13T12:56:14.562477Z",
     "start_time": "2024-06-13T12:55:46.338679Z"
    }
   },
   "cell_type": "code",
   "source": [
    "!pip install wordcloud\n",
    "!pip install textblob\n",
    "!pip install matplotlib\n"
   ],
   "id": "8dbf19479f38ec8b",
   "outputs": [
    {
     "name": "stdout",
     "output_type": "stream",
     "text": [
      "Requirement already satisfied: wordcloud in c:\\users\\jckat\\onedrive\\documents\\github\\british airways\\sentiment_analysis\\venv\\lib\\site-packages (1.9.3)\n",
      "Requirement already satisfied: numpy>=1.6.1 in c:\\users\\jckat\\appdata\\roaming\\python\\python312\\site-packages (from wordcloud) (1.26.1)\n",
      "Requirement already satisfied: pillow in c:\\users\\jckat\\appdata\\roaming\\python\\python312\\site-packages (from wordcloud) (10.1.0)\n",
      "Requirement already satisfied: matplotlib in c:\\users\\jckat\\appdata\\roaming\\python\\python312\\site-packages (from wordcloud) (3.8.1)\n",
      "Requirement already satisfied: contourpy>=1.0.1 in c:\\users\\jckat\\appdata\\roaming\\python\\python312\\site-packages (from matplotlib->wordcloud) (1.2.0)\n",
      "Requirement already satisfied: cycler>=0.10 in c:\\users\\jckat\\appdata\\roaming\\python\\python312\\site-packages (from matplotlib->wordcloud) (0.12.1)\n",
      "Requirement already satisfied: fonttools>=4.22.0 in c:\\users\\jckat\\appdata\\roaming\\python\\python312\\site-packages (from matplotlib->wordcloud) (4.44.0)\n",
      "Requirement already satisfied: kiwisolver>=1.3.1 in c:\\users\\jckat\\appdata\\roaming\\python\\python312\\site-packages (from matplotlib->wordcloud) (1.4.5)\n",
      "Requirement already satisfied: packaging>=20.0 in c:\\users\\jckat\\appdata\\roaming\\python\\python312\\site-packages (from matplotlib->wordcloud) (23.2)\n",
      "Requirement already satisfied: pyparsing>=2.3.1 in c:\\users\\jckat\\appdata\\roaming\\python\\python312\\site-packages (from matplotlib->wordcloud) (3.1.1)\n",
      "Requirement already satisfied: python-dateutil>=2.7 in c:\\users\\jckat\\appdata\\roaming\\python\\python312\\site-packages (from matplotlib->wordcloud) (2.8.2)\n",
      "Requirement already satisfied: six>=1.5 in c:\\users\\jckat\\appdata\\roaming\\python\\python312\\site-packages (from python-dateutil>=2.7->matplotlib->wordcloud) (1.16.0)\n"
     ]
    },
    {
     "name": "stderr",
     "output_type": "stream",
     "text": [
      "\n",
      "[notice] A new release of pip is available: 23.2.1 -> 24.0\n",
      "[notice] To update, run: python.exe -m pip install --upgrade pip\n",
      "\n",
      "[notice] A new release of pip is available: 23.2.1 -> 24.0\n",
      "[notice] To update, run: python.exe -m pip install --upgrade pip\n"
     ]
    },
    {
     "name": "stdout",
     "output_type": "stream",
     "text": [
      "Collecting textblob\n",
      "  Obtaining dependency information for textblob from https://files.pythonhosted.org/packages/02/07/5fd2945356dd839974d3a25de8a142dc37293c21315729a41e775b5f3569/textblob-0.18.0.post0-py3-none-any.whl.metadata\n",
      "  Downloading textblob-0.18.0.post0-py3-none-any.whl.metadata (4.5 kB)\n",
      "Collecting nltk>=3.8 (from textblob)\n",
      "  Obtaining dependency information for nltk>=3.8 from https://files.pythonhosted.org/packages/a6/0a/0d20d2c0f16be91b9fa32a77b76c60f9baf6eba419e5ef5deca17af9c582/nltk-3.8.1-py3-none-any.whl.metadata\n",
      "  Downloading nltk-3.8.1-py3-none-any.whl.metadata (2.8 kB)\n",
      "Requirement already satisfied: click in c:\\users\\jckat\\appdata\\roaming\\python\\python312\\site-packages (from nltk>=3.8->textblob) (8.1.7)\n",
      "Requirement already satisfied: joblib in c:\\users\\jckat\\appdata\\roaming\\python\\python312\\site-packages (from nltk>=3.8->textblob) (1.3.2)\n",
      "Collecting regex>=2021.8.3 (from nltk>=3.8->textblob)\n",
      "  Obtaining dependency information for regex>=2021.8.3 from https://files.pythonhosted.org/packages/8b/ee/05f14a99a81f1a897a9146f3f565efb116ad6412f875f52e895c02666825/regex-2024.5.15-cp312-cp312-win_amd64.whl.metadata\n",
      "  Downloading regex-2024.5.15-cp312-cp312-win_amd64.whl.metadata (41 kB)\n",
      "     ---------------------------------------- 0.0/42.0 kB ? eta -:--:--\n",
      "     ------------------ ------------------- 20.5/42.0 kB 682.7 kB/s eta 0:00:01\n",
      "     ---------------------------------------- 42.0/42.0 kB 1.0 MB/s eta 0:00:00\n",
      "Collecting tqdm (from nltk>=3.8->textblob)\n",
      "  Obtaining dependency information for tqdm from https://files.pythonhosted.org/packages/18/eb/fdb7eb9e48b7b02554e1664afd3bd3f117f6b6d6c5881438a0b055554f9b/tqdm-4.66.4-py3-none-any.whl.metadata\n",
      "  Downloading tqdm-4.66.4-py3-none-any.whl.metadata (57 kB)\n",
      "     ---------------------------------------- 0.0/57.6 kB ? eta -:--:--\n",
      "     ---------------------------------------- 57.6/57.6 kB 3.2 MB/s eta 0:00:00\n",
      "Requirement already satisfied: colorama in c:\\users\\jckat\\appdata\\roaming\\python\\python312\\site-packages (from click->nltk>=3.8->textblob) (0.4.6)\n",
      "Downloading textblob-0.18.0.post0-py3-none-any.whl (626 kB)\n",
      "   ---------------------------------------- 0.0/626.3 kB ? eta -:--:--\n",
      "   ------ --------------------------------- 102.4/626.3 kB 3.0 MB/s eta 0:00:01\n",
      "   ------------------------ --------------- 389.1/626.3 kB 4.9 MB/s eta 0:00:01\n",
      "   ---------------------------------------  624.6/626.3 kB 4.9 MB/s eta 0:00:01\n",
      "   ---------------------------------------- 626.3/626.3 kB 4.9 MB/s eta 0:00:00\n",
      "Downloading nltk-3.8.1-py3-none-any.whl (1.5 MB)\n",
      "   ---------------------------------------- 0.0/1.5 MB ? eta -:--:--\n",
      "   --- ------------------------------------ 0.1/1.5 MB 3.6 MB/s eta 0:00:01\n",
      "   ----- ---------------------------------- 0.2/1.5 MB 4.1 MB/s eta 0:00:01\n",
      "   -------- ------------------------------- 0.3/1.5 MB 2.4 MB/s eta 0:00:01\n",
      "   --------------- ------------------------ 0.6/1.5 MB 3.4 MB/s eta 0:00:01\n",
      "   ------------------------ --------------- 0.9/1.5 MB 4.2 MB/s eta 0:00:01\n",
      "   ------------------------------ --------- 1.2/1.5 MB 4.4 MB/s eta 0:00:01\n",
      "   -------------------------------------- - 1.5/1.5 MB 4.7 MB/s eta 0:00:01\n",
      "   ---------------------------------------- 1.5/1.5 MB 4.6 MB/s eta 0:00:00\n",
      "Downloading regex-2024.5.15-cp312-cp312-win_amd64.whl (268 kB)\n",
      "   ---------------------------------------- 0.0/268.5 kB ? eta -:--:--\n",
      "   ------------- -------------------------- 92.2/268.5 kB 2.6 MB/s eta 0:00:01\n",
      "   ------------------------- -------------- 174.1/268.5 kB 3.5 MB/s eta 0:00:01\n",
      "   ---------------------------------------- 268.5/268.5 kB 2.7 MB/s eta 0:00:00\n",
      "Downloading tqdm-4.66.4-py3-none-any.whl (78 kB)\n",
      "   ---------------------------------------- 0.0/78.3 kB ? eta -:--:--\n",
      "   ---------------------------------------- 78.3/78.3 kB 4.3 MB/s eta 0:00:00\n",
      "Installing collected packages: tqdm, regex, nltk, textblob\n",
      "Successfully installed nltk-3.8.1 regex-2024.5.15 textblob-0.18.0.post0 tqdm-4.66.4\n",
      "Requirement already satisfied: matplotlib in c:\\users\\jckat\\appdata\\roaming\\python\\python312\\site-packages (3.8.1)\n",
      "Requirement already satisfied: contourpy>=1.0.1 in c:\\users\\jckat\\appdata\\roaming\\python\\python312\\site-packages (from matplotlib) (1.2.0)\n",
      "Requirement already satisfied: cycler>=0.10 in c:\\users\\jckat\\appdata\\roaming\\python\\python312\\site-packages (from matplotlib) (0.12.1)\n",
      "Requirement already satisfied: fonttools>=4.22.0 in c:\\users\\jckat\\appdata\\roaming\\python\\python312\\site-packages (from matplotlib) (4.44.0)\n",
      "Requirement already satisfied: kiwisolver>=1.3.1 in c:\\users\\jckat\\appdata\\roaming\\python\\python312\\site-packages (from matplotlib) (1.4.5)\n",
      "Requirement already satisfied: numpy<2,>=1.21 in c:\\users\\jckat\\appdata\\roaming\\python\\python312\\site-packages (from matplotlib) (1.26.1)\n",
      "Requirement already satisfied: packaging>=20.0 in c:\\users\\jckat\\appdata\\roaming\\python\\python312\\site-packages (from matplotlib) (23.2)\n",
      "Requirement already satisfied: pillow>=8 in c:\\users\\jckat\\appdata\\roaming\\python\\python312\\site-packages (from matplotlib) (10.1.0)\n",
      "Requirement already satisfied: pyparsing>=2.3.1 in c:\\users\\jckat\\appdata\\roaming\\python\\python312\\site-packages (from matplotlib) (3.1.1)\n",
      "Requirement already satisfied: python-dateutil>=2.7 in c:\\users\\jckat\\appdata\\roaming\\python\\python312\\site-packages (from matplotlib) (2.8.2)\n",
      "Requirement already satisfied: six>=1.5 in c:\\users\\jckat\\appdata\\roaming\\python\\python312\\site-packages (from python-dateutil>=2.7->matplotlib) (1.16.0)\n"
     ]
    },
    {
     "name": "stderr",
     "output_type": "stream",
     "text": [
      "\n",
      "[notice] A new release of pip is available: 23.2.1 -> 24.0\n",
      "[notice] To update, run: python.exe -m pip install --upgrade pip\n"
     ]
    }
   ],
   "execution_count": 18
  },
  {
   "metadata": {
    "ExecuteTime": {
     "end_time": "2024-06-13T13:08:57.813459Z",
     "start_time": "2024-06-13T13:08:37.723421Z"
    }
   },
   "cell_type": "code",
   "source": [
    "!pip install wordcloud matplotlib textblob\n",
    "\n"
   ],
   "id": "9fc87ac521d5e2e7",
   "outputs": [
    {
     "name": "stdout",
     "output_type": "stream",
     "text": [
      "Requirement already satisfied: wordcloud in c:\\users\\jckat\\onedrive\\documents\\github\\british airways\\sentiment_analysis\\venv\\lib\\site-packages (1.9.3)\n",
      "Requirement already satisfied: matplotlib in c:\\users\\jckat\\appdata\\roaming\\python\\python312\\site-packages (3.8.1)\n",
      "Requirement already satisfied: textblob in c:\\users\\jckat\\onedrive\\documents\\github\\british airways\\sentiment_analysis\\venv\\lib\\site-packages (0.18.0.post0)\n",
      "Requirement already satisfied: numpy>=1.6.1 in c:\\users\\jckat\\appdata\\roaming\\python\\python312\\site-packages (from wordcloud) (1.26.1)\n",
      "Requirement already satisfied: pillow in c:\\users\\jckat\\appdata\\roaming\\python\\python312\\site-packages (from wordcloud) (10.1.0)\n",
      "Requirement already satisfied: contourpy>=1.0.1 in c:\\users\\jckat\\appdata\\roaming\\python\\python312\\site-packages (from matplotlib) (1.2.0)\n",
      "Requirement already satisfied: cycler>=0.10 in c:\\users\\jckat\\appdata\\roaming\\python\\python312\\site-packages (from matplotlib) (0.12.1)\n",
      "Requirement already satisfied: fonttools>=4.22.0 in c:\\users\\jckat\\appdata\\roaming\\python\\python312\\site-packages (from matplotlib) (4.44.0)\n",
      "Requirement already satisfied: kiwisolver>=1.3.1 in c:\\users\\jckat\\appdata\\roaming\\python\\python312\\site-packages (from matplotlib) (1.4.5)\n",
      "Requirement already satisfied: packaging>=20.0 in c:\\users\\jckat\\appdata\\roaming\\python\\python312\\site-packages (from matplotlib) (23.2)\n",
      "Requirement already satisfied: pyparsing>=2.3.1 in c:\\users\\jckat\\appdata\\roaming\\python\\python312\\site-packages (from matplotlib) (3.1.1)\n",
      "Requirement already satisfied: python-dateutil>=2.7 in c:\\users\\jckat\\appdata\\roaming\\python\\python312\\site-packages (from matplotlib) (2.8.2)\n",
      "Requirement already satisfied: nltk>=3.8 in c:\\users\\jckat\\onedrive\\documents\\github\\british airways\\sentiment_analysis\\venv\\lib\\site-packages (from textblob) (3.8.1)\n",
      "Requirement already satisfied: click in c:\\users\\jckat\\appdata\\roaming\\python\\python312\\site-packages (from nltk>=3.8->textblob) (8.1.7)\n",
      "Requirement already satisfied: joblib in c:\\users\\jckat\\appdata\\roaming\\python\\python312\\site-packages (from nltk>=3.8->textblob) (1.3.2)\n",
      "Requirement already satisfied: regex>=2021.8.3 in c:\\users\\jckat\\onedrive\\documents\\github\\british airways\\sentiment_analysis\\venv\\lib\\site-packages (from nltk>=3.8->textblob) (2024.5.15)\n",
      "Requirement already satisfied: tqdm in c:\\users\\jckat\\onedrive\\documents\\github\\british airways\\sentiment_analysis\\venv\\lib\\site-packages (from nltk>=3.8->textblob) (4.66.4)\n",
      "Requirement already satisfied: six>=1.5 in c:\\users\\jckat\\appdata\\roaming\\python\\python312\\site-packages (from python-dateutil>=2.7->matplotlib) (1.16.0)\n",
      "Requirement already satisfied: colorama in c:\\users\\jckat\\appdata\\roaming\\python\\python312\\site-packages (from click->nltk>=3.8->textblob) (0.4.6)\n"
     ]
    },
    {
     "name": "stderr",
     "output_type": "stream",
     "text": [
      "\n",
      "[notice] A new release of pip is available: 23.2.1 -> 24.0\n",
      "[notice] To update, run: python.exe -m pip install --upgrade pip\n"
     ]
    }
   ],
   "execution_count": 24
  },
  {
   "metadata": {
    "ExecuteTime": {
     "end_time": "2024-06-13T13:09:17.293589Z",
     "start_time": "2024-06-13T13:09:17.048372Z"
    }
   },
   "cell_type": "code",
   "source": [
    "from wordcloud import WordCloud\n",
    "import matplotlib.pyplot as plt\n",
    "from textblob import TextBlob"
   ],
   "id": "d0a31cd8b883817d",
   "outputs": [
    {
     "ename": "ModuleNotFoundError",
     "evalue": "No module named 'wordcloud'",
     "output_type": "error",
     "traceback": [
      "\u001B[1;31m---------------------------------------------------------------------------\u001B[0m",
      "\u001B[1;31mModuleNotFoundError\u001B[0m                       Traceback (most recent call last)",
      "Cell \u001B[1;32mIn[25], line 1\u001B[0m\n\u001B[1;32m----> 1\u001B[0m \u001B[38;5;28;01mfrom\u001B[39;00m \u001B[38;5;21;01mwordcloud\u001B[39;00m \u001B[38;5;28;01mimport\u001B[39;00m WordCloud\n\u001B[0;32m      2\u001B[0m \u001B[38;5;28;01mimport\u001B[39;00m \u001B[38;5;21;01mmatplotlib\u001B[39;00m\u001B[38;5;21;01m.\u001B[39;00m\u001B[38;5;21;01mpyplot\u001B[39;00m \u001B[38;5;28;01mas\u001B[39;00m \u001B[38;5;21;01mplt\u001B[39;00m\n\u001B[0;32m      3\u001B[0m \u001B[38;5;28;01mfrom\u001B[39;00m \u001B[38;5;21;01mtextblob\u001B[39;00m \u001B[38;5;28;01mimport\u001B[39;00m TextBlob\n",
      "\u001B[1;31mModuleNotFoundError\u001B[0m: No module named 'wordcloud'"
     ]
    }
   ],
   "execution_count": 25
  },
  {
   "metadata": {
    "ExecuteTime": {
     "end_time": "2024-06-13T12:53:07.968121Z",
     "start_time": "2024-06-13T12:53:07.914395Z"
    }
   },
   "cell_type": "code",
   "source": [
    "\n",
    "# Load cleaned data\n",
    "df = pd.read_csv(r'C:/Users/jckat/oneDrive/Documents/GitHub/British Airways/Data/cleaned_BA_reviews.csv')\n",
    "\n",
    "# Sentiment Analysis\n",
    "df['Sentiment'] = df['reviews'].apply(lambda x: TextBlob(x).sentiment.polarity)\n",
    "\n",
    "# Word Cloud\n",
    "text = ' '.join(df['reviews'].tolist())\n",
    "wordcloud = WordCloud(width=800, height=400, background_color='white').generate(text)\n",
    "\n",
    "# Plot Word Cloud\n",
    "plt.figure(figsize=(10, 5))\n",
    "plt.imshow(wordcloud, interpolation='bilinear')\n",
    "plt.axis('off')\n",
    "plt.show()\n",
    "\n",
    "# Sentiment distribution\n",
    "plt.figure(figsize=(8, 6))\n",
    "df['Sentiment'].hist(bins=50)\n",
    "plt.title('Sentiment Distribution')\n",
    "plt.xlabel('Sentiment')\n",
    "plt.ylabel('Frequency')\n",
    "plt.show()\n"
   ],
   "id": "f8f2fb571f14af21",
   "outputs": [
    {
     "ename": "ModuleNotFoundError",
     "evalue": "No module named 'wordcloud'",
     "output_type": "error",
     "traceback": [
      "\u001B[1;31m---------------------------------------------------------------------------\u001B[0m",
      "\u001B[1;31mModuleNotFoundError\u001B[0m                       Traceback (most recent call last)",
      "Cell \u001B[1;32mIn[16], line 1\u001B[0m\n\u001B[1;32m----> 1\u001B[0m \u001B[38;5;28;01mimport\u001B[39;00m \u001B[38;5;21;01mwordcloud\u001B[39;00m\n\u001B[0;32m      2\u001B[0m \u001B[38;5;28;01mfrom\u001B[39;00m \u001B[38;5;21;01mwordcloud\u001B[39;00m \u001B[38;5;28;01mimport\u001B[39;00m WordCloud\n\u001B[0;32m      3\u001B[0m \u001B[38;5;28;01mimport\u001B[39;00m \u001B[38;5;21;01mmatplotlib\u001B[39;00m\u001B[38;5;21;01m.\u001B[39;00m\u001B[38;5;21;01mpyplot\u001B[39;00m \u001B[38;5;28;01mas\u001B[39;00m \u001B[38;5;21;01mplt\u001B[39;00m\n",
      "\u001B[1;31mModuleNotFoundError\u001B[0m: No module named 'wordcloud'"
     ]
    }
   ],
   "execution_count": 16
  },
  {
   "metadata": {},
   "cell_type": "code",
   "outputs": [],
   "execution_count": null,
   "source": "",
   "id": "68b3d4d35f78ca3"
  },
  {
   "metadata": {},
   "cell_type": "code",
   "outputs": [],
   "execution_count": null,
   "source": "",
   "id": "ae9c11d5fddf489a"
  }
 ],
 "metadata": {
  "kernelspec": {
   "display_name": "Python 3",
   "language": "python",
   "name": "python3"
  },
  "language_info": {
   "codemirror_mode": {
    "name": "ipython",
    "version": 2
   },
   "file_extension": ".py",
   "mimetype": "text/x-python",
   "name": "python",
   "nbconvert_exporter": "python",
   "pygments_lexer": "ipython2",
   "version": "2.7.6"
  }
 },
 "nbformat": 4,
 "nbformat_minor": 5
}
